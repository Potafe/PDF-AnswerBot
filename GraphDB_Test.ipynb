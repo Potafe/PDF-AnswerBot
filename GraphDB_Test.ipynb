{
 "cells": [
  {
   "cell_type": "code",
   "execution_count": 1,
   "metadata": {},
   "outputs": [
    {
     "name": "stderr",
     "output_type": "stream",
     "text": [
      "c:\\Users\\Yazat\\AppData\\Local\\Programs\\Python\\Python312\\Lib\\site-packages\\tqdm\\auto.py:21: TqdmWarning: IProgress not found. Please update jupyter and ipywidgets. See https://ipywidgets.readthedocs.io/en/stable/user_install.html\n",
      "  from .autonotebook import tqdm as notebook_tqdm\n"
     ]
    }
   ],
   "source": [
    "from llama_index.core import SimpleDirectoryReader\n",
    "from llama_index.core.prompts.prompts import SimpleInputPrompt\n",
    "from llama_index.llms.ollama import Ollama\n",
    "from llama_index.embeddings.huggingface import HuggingFaceEmbedding\n",
    "from llama_index.core import Settings\n",
    "from llama_index.core import KnowledgeGraphIndex\n",
    "from llama_index.core import StorageContext\n",
    "from llama_index.graph_stores.neo4j import Neo4jGraphStore"
   ]
  },
  {
   "cell_type": "code",
   "execution_count": 2,
   "metadata": {},
   "outputs": [
    {
     "data": {
      "text/plain": [
       "[Document(id_='fe67d52b-a01f-4083-b8ec-920edcb08484', embedding=None, metadata={'page_label': '1', 'file_name': 'rank.pdf', 'file_path': 'c:\\\\Users\\\\Yazat\\\\Desktop\\\\RAG\\\\pdf\\\\rank.pdf', 'file_type': 'application/pdf', 'file_size': 296780, 'creation_date': '2024-07-09', 'last_modified_date': '2024-07-09'}, excluded_embed_metadata_keys=['file_name', 'file_type', 'file_size', 'creation_date', 'last_modified_date', 'last_accessed_date'], excluded_llm_metadata_keys=['file_name', 'file_type', 'file_size', 'creation_date', 'last_modified_date', 'last_accessed_date'], relationships={}, text=\" राष्ट्रीय   प्रौद्योगिकी   संस्थान   मिजोरि  \\nNATIONAL INSTITUTE OF TECHNOLOGY MIZORAM  \\n(An Institut ion of National Importance under Ministry of Education, Govt. of India)  \\nचलतलांि , आइजोल , मिजोरि  / CHALTLANG, AIZAWL, MIZORAM  – 796012  \\nPhone: 0389  - 2391236 / 2391774 / 2391699       Email: registraroffice@nitmz.ac.in        Website: www.nitmz.ac.in  \\nDate:  09 /03/ 2024  \\nBonafide/ Rank  Certificate  \\n \\nThis is to certify that Mr. Yazat Mishra , S/O Mr. Rakesh Mishra , Enroll No \\nBT21EC037  is a bonafide student of N ational Institute of Technology  Mizoram. He \\nis currently studying in the 3rd year  of Bachelor of Technology (B.  Tech)  in the \\nDepartment of Electronics and Communication Engineering  for the academic \\ncalendar 2023 -2024.  \\nHe has successfully completed the 5th semester examination and scored  CGPA \\n9.48 on 10 - points scale. His rank, on the basis of CGPA, is 1st out of total 34 \\nstudents in his Electronics and Communication Engineering  branch , which \\nrepresents top 20% in the class.  \\nThe students of NIT Mizoram are allowed to undertake Industrial Training and \\nSummer Internship from May 15, 2024 , to July 29, 2024 , as per the institute's \\nacademic calendar.  \\nThis certificate has been issued only for the purpose of Industrial Training and \\nInternship .  \\n \\n……………………………………………………  \\n    Associate Dean (SW) and FIC, T&P  \\nNational Institute of Technology Mizoram  \\nEmail: adean_sw@nitmz.ac.in  \\n \\nThis certificate has been issued with the approval of the Director, National Institute of Technology Mizoram  \\n\", mimetype='text/plain', start_char_idx=None, end_char_idx=None, text_template='{metadata_str}\\n\\n{content}', metadata_template='{key}: {value}', metadata_seperator='\\n')]"
      ]
     },
     "execution_count": 2,
     "metadata": {},
     "output_type": "execute_result"
    }
   ],
   "source": [
    "documents = SimpleDirectoryReader(\"pdf\").load_data()\n",
    "documents"
   ]
  },
  {
   "cell_type": "code",
   "execution_count": 3,
   "metadata": {},
   "outputs": [],
   "source": [
    "system_prompt = \"\"\"\n",
    "    You are a technical assistant whose goal is to answer \n",
    "    questions based on the instructions \n",
    "    and the context provided. \n",
    "    If you do not have an answer from \n",
    "    the provided information say so.\n",
    "    \"\"\"\n",
    "    \n",
    "query_wrapper_prompt = SimpleInputPrompt(\"<|USER|>{query_str}<|ASSISTANT|>\")"
   ]
  },
  {
   "cell_type": "code",
   "execution_count": 4,
   "metadata": {},
   "outputs": [],
   "source": [
    "llm = Ollama(model=\"llama3:8b\", request_timeout = 20000)\n",
    "embed_model = HuggingFaceEmbedding(\n",
    "    model_name=\"BAAI/bge-small-en-v1.5\"\n",
    ")\n",
    "\n",
    "Settings.llm = llm\n",
    "Settings.embed_model = embed_model\n"
   ]
  },
  {
   "cell_type": "code",
   "execution_count": 5,
   "metadata": {},
   "outputs": [
    {
     "name": "stderr",
     "output_type": "stream",
     "text": [
      "Parsing nodes: 100%|██████████| 1/1 [00:00<00:00, 180.45it/s]\n",
      "Generating embeddings: 100%|██████████| 3/3 [00:01<00:00,  2.22it/s]\n",
      "Processing nodes: 100%|██████████| 1/1 [10:38<00:00, 638.33s/it]\n"
     ]
    },
    {
     "name": "stdout",
     "output_type": "stream",
     "text": [
      "KnowledgeGraphIndex created successfully\n"
     ]
    }
   ],
   "source": [
    "username = \"neo4j\"\n",
    "password = \"12345678\"\n",
    "url = \"neo4j://localhost:7687\"\n",
    "database = \"neo4j\"\n",
    "\n",
    "graph_store = Neo4jGraphStore(\n",
    "    username=username,\n",
    "    password=password,\n",
    "    url=url,\n",
    "    database=database,\n",
    ")\n",
    "\n",
    "storage_context = StorageContext.from_defaults(graph_store=graph_store)\n",
    "\n",
    "index = KnowledgeGraphIndex.from_documents(\n",
    "    documents, \n",
    "    storage_context=storage_context,\n",
    "    llm=llm,\n",
    "    embed_model=embed_model,\n",
    "    show_progress=True,\n",
    "    max_triplets_per_chunk=3,\n",
    "    include_embeddings=True\n",
    ")\n",
    "\n",
    "print(\"KnowledgeGraphIndex created successfully\")"
   ]
  },
  {
   "cell_type": "code",
   "execution_count": 6,
   "metadata": {},
   "outputs": [],
   "source": [
    "query_engine = index.as_query_engine(\n",
    "    include_text=True, response_mode=\"tree_summarize\"\n",
    ")\n",
    "\n",
    "response = query_engine.query(\n",
    "    \"Tell me about Yazat\"\n",
    ")"
   ]
  },
  {
   "cell_type": "code",
   "execution_count": 7,
   "metadata": {},
   "outputs": [
    {
     "data": {
      "text/markdown": [
       "<b>A bonafide student of National Institute of Technology Mizoram, studying in the Department of Electronics and Communication Engineering, currently in his third year of Bachelor of Technology (B.Tech) for the academic calendar 2023-2024. He has successfully completed the 5th semester examination with a CGPA of 9.48 on a 10-point scale, ranking 1st out of 34 students in his branch, which represents top 20% in the class.</b>"
      ],
      "text/plain": [
       "<IPython.core.display.Markdown object>"
      ]
     },
     "metadata": {},
     "output_type": "display_data"
    }
   ],
   "source": [
    "from IPython.display import Markdown, display\n",
    "\n",
    "display(Markdown(f\"<b>{response}</b>\"))"
   ]
  },
  {
   "cell_type": "markdown",
   "metadata": {},
   "source": []
  },
  {
   "cell_type": "code",
   "execution_count": 8,
   "metadata": {},
   "outputs": [
    {
     "data": {
      "text/markdown": [
       "<b>His CGPA is 9.48 on a 10-points scale.</b>"
      ],
      "text/plain": [
       "<IPython.core.display.Markdown object>"
      ]
     },
     "metadata": {},
     "output_type": "display_data"
    }
   ],
   "source": [
    "response = query_engine.query(\n",
    "    \"What is his CGPA?\"\n",
    ")\n",
    "\n",
    "display(Markdown(f\"<b>{response}</b>\"))"
   ]
  },
  {
   "cell_type": "code",
   "execution_count": null,
   "metadata": {},
   "outputs": [],
   "source": []
  }
 ],
 "metadata": {
  "kernelspec": {
   "display_name": "Python 3",
   "language": "python",
   "name": "python3"
  },
  "language_info": {
   "codemirror_mode": {
    "name": "ipython",
    "version": 3
   },
   "file_extension": ".py",
   "mimetype": "text/x-python",
   "name": "python",
   "nbconvert_exporter": "python",
   "pygments_lexer": "ipython3",
   "version": "3.12.3"
  }
 },
 "nbformat": 4,
 "nbformat_minor": 2
}
